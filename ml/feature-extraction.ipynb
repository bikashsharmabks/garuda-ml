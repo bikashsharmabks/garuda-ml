{
 "cells": [
  {
   "cell_type": "code",
   "execution_count": 71,
   "metadata": {},
   "outputs": [],
   "source": [
    "import cv2\n",
    "import numpy as np\n",
    "import pytesseract\n",
    "from PIL import Image\n",
    "import glob\n",
    "import unicodecsv as csv\n",
    "import os\n",
    "import shutil"
   ]
  },
  {
   "cell_type": "code",
   "execution_count": 72,
   "metadata": {},
   "outputs": [],
   "source": [
    "def get_image_info(img_path):\n",
    "    \n",
    "    info = {}\n",
    "    gImg = cv2.imread(img_path)\n",
    "    gImg = cv2.cvtColor(gImg, cv2.COLOR_BGR2GRAY)\n",
    "\n",
    "    # Apply dilation and erosion to remove some noise\n",
    "    kernel = np.ones((1, 1), np.uint8)\n",
    "    gImg = cv2.dilate(gImg, kernel, iterations=1)\n",
    "    gImg = cv2.erode(gImg, kernel, iterations=1)\n",
    "\n",
    "    cv2.imwrite(temp_path + \"removed_noise.png\", gImg)\n",
    "\n",
    "    # Recognize text with tesseract\n",
    "    data = pytesseract.image_to_string(Image.open(temp_path + \"removed_noise.png\"))\n",
    "    \n",
    "    haar_face_cascade = cv2.CascadeClassifier('haarcascade_frontalface_alt.xml')\n",
    "\n",
    "    #multiscale (some images may be closer to camera than others)\n",
    "    faces = haar_face_cascade.detectMultiScale(gImg, scaleFactor=1.1, minNeighbors=1, minSize=(1,1))\n",
    "    \n",
    "    if len(faces) > 0:\n",
    "        hasFace = True\n",
    "    else:\n",
    "        hasFace = False\n",
    "    info = {\n",
    "        'data': data.replace('\\n', ' '),\n",
    "        'hasFace': hasFace\n",
    "    }\n",
    "    return info"
   ]
  },
  {
   "cell_type": "code",
   "execution_count": 73,
   "metadata": {},
   "outputs": [],
   "source": [
    "def get_image_contour(img_path):\n",
    "    split_path = img_path.split('/')\n",
    "    image_contour_path = split_path[0] + '/contours/contours_' + split_path[1]\n",
    "    gImg = cv2.imread(img_path)\n",
    "    gImg = cv2.cvtColor(gImg, cv2.COLOR_BGR2GRAY)\n",
    "    edges = cv2.Canny(gImg,100,200)\n",
    "    cv2.imwrite(image_contour_path, edges)\n",
    "    return image_contour_path\n",
    "    "
   ]
  },
  {
   "cell_type": "code",
   "execution_count": 74,
   "metadata": {},
   "outputs": [
    {
     "name": "stdout",
     "output_type": "stream",
     "text": [
      "File saved succesfully\n"
     ]
    }
   ],
   "source": [
    "if not os.path.exists('images'):\n",
    "    os.makedirs('images')\n",
    "    \n",
    "if not os.path.exists('images/temp'):\n",
    "    os.makedirs('images/temp')\n",
    "    \n",
    "if not os.path.exists('images/contours'):\n",
    "    os.makedirs('images/contours')\n",
    "    \n",
    "src_path = \"images/*.png\"\n",
    "temp_path = \"images/temp/\"\n",
    "result = []\n",
    "\n",
    "#test for single file\n",
    "# info = get_image_info('images/DL_4.png')\n",
    "# image_contour = get_image_contour('images/DL_4.png')\n",
    "# info['image_contour'] = image_contour\n",
    "# result.append(info)\n",
    "# print(result)\n",
    "    \n",
    "files=glob.glob(src_path)   \n",
    "for file in files:\n",
    "    info = get_image_info(file)\n",
    "    image_contour = get_image_contour(file)\n",
    "    info['image_contour'] = image_contour\n",
    "    result.append(info)\n",
    "    \n",
    "keys = result[0].keys()\n",
    "with open('images/csv/dl_info.csv', 'wb') as output_file:\n",
    "    dict_writer = csv.DictWriter(output_file, keys)\n",
    "    dict_writer.writeheader()\n",
    "    dict_writer.writerows(result)\n",
    "\n",
    "# Remove temporary folder\n",
    "shutil.rmtree(\"images/temp\", ignore_errors=True)\n",
    "\n",
    "print(\"File saved succesfully\")\n"
   ]
  },
  {
   "cell_type": "code",
   "execution_count": null,
   "metadata": {},
   "outputs": [],
   "source": []
  }
 ],
 "metadata": {
  "kernelspec": {
   "display_name": "Python 3",
   "language": "python",
   "name": "python3"
  },
  "language_info": {
   "codemirror_mode": {
    "name": "ipython",
    "version": 3
   },
   "file_extension": ".py",
   "mimetype": "text/x-python",
   "name": "python",
   "nbconvert_exporter": "python",
   "pygments_lexer": "ipython3",
   "version": "3.6.5"
  }
 },
 "nbformat": 4,
 "nbformat_minor": 2
}
