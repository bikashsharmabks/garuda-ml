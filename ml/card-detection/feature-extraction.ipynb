{
 "cells": [
  {
   "cell_type": "code",
   "execution_count": 4,
   "metadata": {},
   "outputs": [],
   "source": [
    "import cv2\n",
    "import numpy as np\n",
    "import pytesseract\n",
    "from PIL import Image\n",
    "import glob\n",
    "import unicodecsv as csv\n",
    "import os\n",
    "import shutil"
   ]
  },
  {
   "cell_type": "code",
   "execution_count": 29,
   "metadata": {},
   "outputs": [],
   "source": [
    "def get_image_info(img_path):\n",
    "    info = {}\n",
    "    gImg = cv2.imread(img_path)\n",
    "    gImg = cv2.cvtColor(gImg, cv2.COLOR_BGR2GRAY)\n",
    "\n",
    "    # Apply dilation and erosion to remove some noise\n",
    "    kernel = np.ones((1, 1), np.uint8)\n",
    "    gImg = cv2.dilate(gImg, kernel, iterations=1)\n",
    "    gImg = cv2.erode(gImg, kernel, iterations=1)\n",
    "\n",
    "    cv2.imwrite(temp_path + \"removed_noise_temp.png\", gImg)\n",
    "\n",
    "    # Recognize text with tesseract\n",
    "    data = pytesseract.image_to_string(Image.open(temp_path + \"removed_noise_temp.png\"))\n",
    "    \n",
    "    haar_face_cascade = cv2.CascadeClassifier('classifier/haarcascade_frontalface_alt.xml')\n",
    "\n",
    "    #multiscale (some images may be closer to camera than others)\n",
    "    faces = haar_face_cascade.detectMultiScale(gImg, scaleFactor=1.1, minNeighbors=1, minSize=(1,1))\n",
    "    \n",
    "    if len(faces) > 0:\n",
    "        hasFace = True\n",
    "    else:\n",
    "        hasFace = False\n",
    "    info = {\n",
    "        'data': data.replace('\\n', ' '),\n",
    "        'hasFace': hasFace\n",
    "    }\n",
    "    return info"
   ]
  },
  {
   "cell_type": "code",
   "execution_count": 30,
   "metadata": {},
   "outputs": [],
   "source": [
    "def get_image_contour(img_path):\n",
    "    split_path = img_path.split('/')\n",
    "    image_contour_path = contour_path + 'contours_'+ split_path[5]\n",
    "    gImg = cv2.imread(img_path)\n",
    "    gImg = cv2.cvtColor(gImg, cv2.COLOR_BGR2GRAY)\n",
    "    edges = cv2.Canny(gImg,100,200)\n",
    "    cv2.imwrite(image_contour_path, edges)\n",
    "    return image_contour_path\n",
    "    "
   ]
  },
  {
   "cell_type": "code",
   "execution_count": 31,
   "metadata": {},
   "outputs": [
    {
     "name": "stdout",
     "output_type": "stream",
     "text": [
      "[{'data': \"04711101121. DRIVER ucms: USA'  ' . 1M5“ “DLN‘D12345678‘1“_ ZEEETL‘SE. 3 005' 02/01/1957 ,  1 SAMPLE  2 J ELANI a 123 MAIN STREET PHOENIX, AZ 05007  1.. exp 02/01/2018 2. Iss 01’1Q’M5m  15 SEX M 13 EYES BRO 1s HGT 5'48“ 19 HAIR BRO VETERAN  17 WGT 185 lb  Ga '5 I mm 02/01/57 5 DD 1234567890123456\", 'hasFace': True, 'image_contour': '../../data/card-detection/features/contours/DL_4.png_contours'}]\n",
      "File saved succesfully\n"
     ]
    }
   ],
   "source": [
    "PATH = \"../../data/card-detection/features/\"\n",
    "\n",
    "src_path = PATH + '*.png'\n",
    "temp_path = PATH + 'temp/'\n",
    "contour_path = PATH + 'contours/'\n",
    "\n",
    "if not os.path.exists(PATH):\n",
    "    os.makedirs(PATH)\n",
    "    \n",
    "if not os.path.exists(temp_path):\n",
    "    os.makedirs(temp_path)\n",
    "    \n",
    "if not os.path.exists(contour_path):\n",
    "    os.makedirs(contour_path)\n",
    "\n",
    "result = []\n",
    "\n",
    "# test for single file\n",
    "# info = get_image_info(PATH+'DL_4.png')\n",
    "# image_contour = get_image_contour(PATH+'DL_4.png')\n",
    "# info['image_contour'] = image_contour\n",
    "# result.append(info)\n",
    "# print(result)\n",
    "    \n",
    "files=glob.glob(src_path)   \n",
    "for file in files:\n",
    "    info = get_image_info(file)\n",
    "    image_contour = get_image_contour(file)\n",
    "    info['image_contour'] = image_contour\n",
    "    result.append(info)\n",
    "\n",
    "#create csv and save \n",
    "keys = result[0].keys()\n",
    "with open(PATH+ 'features.csv', 'wb') as output_file:\n",
    "    dict_writer = csv.DictWriter(output_file, keys)\n",
    "    dict_writer.writeheader()\n",
    "    dict_writer.writerows(result)\n",
    "\n",
    "# Remove temporary folder\n",
    "shutil.rmtree(temp_path, ignore_errors=True)\n",
    "\n",
    "print(\"File saved succesfully\")\n"
   ]
  },
  {
   "cell_type": "code",
   "execution_count": null,
   "metadata": {},
   "outputs": [],
   "source": []
  }
 ],
 "metadata": {
  "kernelspec": {
   "display_name": "Python 3",
   "language": "python",
   "name": "python3"
  },
  "language_info": {
   "codemirror_mode": {
    "name": "ipython",
    "version": 3
   },
   "file_extension": ".py",
   "mimetype": "text/x-python",
   "name": "python",
   "nbconvert_exporter": "python",
   "pygments_lexer": "ipython3",
   "version": "3.6.5"
  }
 },
 "nbformat": 4,
 "nbformat_minor": 2
}
