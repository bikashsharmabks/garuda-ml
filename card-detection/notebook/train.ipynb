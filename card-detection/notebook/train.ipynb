{
 "cells": [
  {
   "cell_type": "code",
   "execution_count": 27,
   "metadata": {},
   "outputs": [],
   "source": [
    "import tensorflow as tf\n",
    "import cv2\n",
    "import numpy as np\n",
    "import pandas as pd\n",
    "import os"
   ]
  },
  {
   "cell_type": "code",
   "execution_count": 28,
   "metadata": {},
   "outputs": [
    {
     "name": "stdout",
     "output_type": "stream",
     "text": [
      "TensorFlow version: 1.8.0\n"
     ]
    }
   ],
   "source": [
    "data_path = '../../data/card-detection/features/features.csv'\n",
    "print(\"TensorFlow version: {}\".format(tf.VERSION))"
   ]
  },
  {
   "cell_type": "code",
   "execution_count": 41,
   "metadata": {},
   "outputs": [
    {
     "name": "stdout",
     "output_type": "stream",
     "text": [
      "Count for data: 16\n"
     ]
    }
   ],
   "source": [
    "COLUMN_NAMES = ['data','hasFace','image_contour', 'class']\n",
    "\n",
    "CLASSES = ['dl', 'financial card', 'text']\n",
    "\n",
    "NUM_CLASSES = len(CLASSES)\n",
    "MAX_VOCABULARY_SIZE = 1000\n",
    "BATCH_SIZE = 100\n",
    "EPOCHS = 10\n",
    "LEARNING_RATE = 0.001\n",
    "\n",
    "\n",
    "def raw_data_fn(y_name='class'):\n",
    "    data = pd.read_excel(data_path, encoding='utf-8')\n",
    "    \n",
    "    #drop all df with value NaN\n",
    "    data = data.dropna(subset=['data', 'hasFace', 'image_contour'])\n",
    "    \n",
    "    #count total data\n",
    "    print(\"Count for data: %s\" % len(data))\n",
    "    \n",
    "raw_data_fn()"
   ]
  },
  {
   "cell_type": "code",
   "execution_count": 39,
   "metadata": {},
   "outputs": [],
   "source": [
    "# gImg = cv2.imread(info['image_contour']) \n",
    "# temp_t = tf.image.convert_image_dtype(\n",
    "#     gImg,\n",
    "#     tf.float32\n",
    "# )"
   ]
  },
  {
   "cell_type": "code",
   "execution_count": null,
   "metadata": {},
   "outputs": [],
   "source": []
  }
 ],
 "metadata": {
  "kernelspec": {
   "display_name": "Python 3",
   "language": "python",
   "name": "python3"
  },
  "language_info": {
   "codemirror_mode": {
    "name": "ipython",
    "version": 3
   },
   "file_extension": ".py",
   "mimetype": "text/x-python",
   "name": "python",
   "nbconvert_exporter": "python",
   "pygments_lexer": "ipython3",
   "version": "3.6.5"
  }
 },
 "nbformat": 4,
 "nbformat_minor": 2
}
